{
 "cells": [
  {
   "cell_type": "code",
   "execution_count": 2,
   "metadata": {},
   "outputs": [],
   "source": [
    "import datetime as dt\n",
    "import pandas as pd"
   ]
  },
  {
   "cell_type": "markdown",
   "metadata": {},
   "source": [
    "### LAG/LEAD: calculate deltas from totals\n",
    "\n",
    "Spark SQL equivalent:\n",
    "\n",
    "```\n",
    "select *,\n",
    "    lag(total, 1, 0) over (partition by url, service order by ts) as prev\n",
    "from df\n",
    "```\n",
    "\n",
    "Spark code:\n",
    "```\n",
    "df = sqlContext.read.csv('social_totals.csv', header=True)\n",
    "df.createOrReplaceTempView('df')\n",
    "df = sqlContext.sql('select *, lag(total, 1, 0) over (partition by url, service order by ts) as prev from df')\n",
    "df = df.withColumn('delta', df['total'] - df['prev'])\n",
    "```"
   ]
  },
  {
   "cell_type": "code",
   "execution_count": 14,
   "metadata": {},
   "outputs": [
    {
     "data": {
      "text/html": [
       "<div>\n",
       "<style scoped>\n",
       "    .dataframe tbody tr th:only-of-type {\n",
       "        vertical-align: middle;\n",
       "    }\n",
       "\n",
       "    .dataframe tbody tr th {\n",
       "        vertical-align: top;\n",
       "    }\n",
       "\n",
       "    .dataframe thead th {\n",
       "        text-align: right;\n",
       "    }\n",
       "</style>\n",
       "<table border=\"1\" class=\"dataframe\">\n",
       "  <thead>\n",
       "    <tr style=\"text-align: right;\">\n",
       "      <th></th>\n",
       "      <th>url</th>\n",
       "      <th>ts</th>\n",
       "      <th>service</th>\n",
       "      <th>total</th>\n",
       "    </tr>\n",
       "  </thead>\n",
       "  <tbody>\n",
       "    <tr>\n",
       "      <th>0</th>\n",
       "      <td>url1</td>\n",
       "      <td>2018-08-15 00:00:00</td>\n",
       "      <td>tw</td>\n",
       "      <td>1</td>\n",
       "    </tr>\n",
       "    <tr>\n",
       "      <th>1</th>\n",
       "      <td>url1</td>\n",
       "      <td>2018-08-15 00:05:00</td>\n",
       "      <td>tw</td>\n",
       "      <td>4</td>\n",
       "    </tr>\n",
       "    <tr>\n",
       "      <th>2</th>\n",
       "      <td>url1</td>\n",
       "      <td>2018-08-15 00:11:00</td>\n",
       "      <td>tw</td>\n",
       "      <td>5</td>\n",
       "    </tr>\n",
       "  </tbody>\n",
       "</table>\n",
       "</div>"
      ],
      "text/plain": [
       "    url                   ts service  total\n",
       "0  url1  2018-08-15 00:00:00      tw      1\n",
       "1  url1  2018-08-15 00:05:00      tw      4\n",
       "2  url1  2018-08-15 00:11:00      tw      5"
      ]
     },
     "execution_count": 14,
     "metadata": {},
     "output_type": "execute_result"
    }
   ],
   "source": [
    "df = pd.read_csv('social_totals.csv')\n",
    "df.head(3)"
   ]
  },
  {
   "cell_type": "code",
   "execution_count": 19,
   "metadata": {},
   "outputs": [
    {
     "data": {
      "text/html": [
       "<div>\n",
       "<style scoped>\n",
       "    .dataframe tbody tr th:only-of-type {\n",
       "        vertical-align: middle;\n",
       "    }\n",
       "\n",
       "    .dataframe tbody tr th {\n",
       "        vertical-align: top;\n",
       "    }\n",
       "\n",
       "    .dataframe thead th {\n",
       "        text-align: right;\n",
       "    }\n",
       "</style>\n",
       "<table border=\"1\" class=\"dataframe\">\n",
       "  <thead>\n",
       "    <tr style=\"text-align: right;\">\n",
       "      <th></th>\n",
       "      <th>url</th>\n",
       "      <th>ts</th>\n",
       "      <th>service</th>\n",
       "      <th>total</th>\n",
       "      <th>prev</th>\n",
       "      <th>delta</th>\n",
       "    </tr>\n",
       "  </thead>\n",
       "  <tbody>\n",
       "    <tr>\n",
       "      <th>0</th>\n",
       "      <td>url1</td>\n",
       "      <td>2018-08-15 00:00:00</td>\n",
       "      <td>tw</td>\n",
       "      <td>1</td>\n",
       "      <td>0</td>\n",
       "      <td>1</td>\n",
       "    </tr>\n",
       "    <tr>\n",
       "      <th>1</th>\n",
       "      <td>url1</td>\n",
       "      <td>2018-08-15 00:05:00</td>\n",
       "      <td>tw</td>\n",
       "      <td>4</td>\n",
       "      <td>1</td>\n",
       "      <td>3</td>\n",
       "    </tr>\n",
       "    <tr>\n",
       "      <th>2</th>\n",
       "      <td>url1</td>\n",
       "      <td>2018-08-15 00:11:00</td>\n",
       "      <td>tw</td>\n",
       "      <td>5</td>\n",
       "      <td>4</td>\n",
       "      <td>1</td>\n",
       "    </tr>\n",
       "  </tbody>\n",
       "</table>\n",
       "</div>"
      ],
      "text/plain": [
       "    url                   ts service  total  prev  delta\n",
       "0  url1  2018-08-15 00:00:00      tw      1     0      1\n",
       "1  url1  2018-08-15 00:05:00      tw      4     1      3\n",
       "2  url1  2018-08-15 00:11:00      tw      5     4      1"
      ]
     },
     "execution_count": 19,
     "metadata": {},
     "output_type": "execute_result"
    }
   ],
   "source": [
    "# using groupby\n",
    "df = pd.read_csv('social_totals.csv')\n",
    "df = df.assign(prev=df.sort_values(['ts']).groupby(['url', 'service']).total.shift(1).fillna(0).astype(int))\n",
    "df = df.assign(delta=df['total']-df['prev'])\n",
    "df.head(3)"
   ]
  },
  {
   "cell_type": "code",
   "execution_count": 55,
   "metadata": {},
   "outputs": [
    {
     "data": {
      "text/plain": [
       "0       NaN\n",
       "18      NaN\n",
       "9       NaN\n",
       "24      NaN\n",
       "19      6.0\n",
       "25      2.0\n",
       "10     15.0\n",
       "1       3.0\n",
       "26      7.0\n",
       "20     13.0\n",
       "2       1.0\n",
       "11     11.0\n",
       "27      6.0\n",
       "21     80.0\n",
       "3       3.0\n",
       "12     14.0\n",
       "28      9.0\n",
       "22    455.0\n",
       "4       4.0\n",
       "13     14.0\n",
       "23    645.0\n",
       "29     13.0\n",
       "5      13.0\n",
       "14      8.0\n",
       "15     43.0\n",
       "6      16.0\n",
       "16    120.0\n",
       "7       4.0\n",
       "8      14.0\n",
       "17    130.0\n",
       "Name: total, dtype: float64"
      ]
     },
     "execution_count": 55,
     "metadata": {},
     "output_type": "execute_result"
    }
   ],
   "source": [
    "# using rolling\n",
    "df = pd.read_csv('social_totals.csv')\n",
    "df.sort_values(['ts']).groupby(['url', 'service']).total.diff(1)"
   ]
  },
  {
   "cell_type": "markdown",
   "metadata": {},
   "source": [
    "### SUM OVER: calculate totals from deltas"
   ]
  },
  {
   "cell_type": "markdown",
   "metadata": {},
   "source": [
    "Spark SQL:\n",
    "\n",
    "```\n",
    "select *, \n",
    "    sum(cast(delta as long)) over (partition by url, service order by ts) as total \n",
    "from social_deltas\n",
    "```\n",
    "\n",
    "Spark code:\n",
    "\n",
    "```\n",
    "df = sqlContext.read.csv('social_deltas.csv', header=True)\n",
    "df.createOrReplaceTempView('df')\n",
    "df = sqlContext.sql('select *, sum(cast(delta as long)) over (partition by url, service order by ts) as total from df')\n",
    "```"
   ]
  },
  {
   "cell_type": "code",
   "execution_count": 7,
   "metadata": {},
   "outputs": [
    {
     "data": {
      "text/html": [
       "<div>\n",
       "<style scoped>\n",
       "    .dataframe tbody tr th:only-of-type {\n",
       "        vertical-align: middle;\n",
       "    }\n",
       "\n",
       "    .dataframe tbody tr th {\n",
       "        vertical-align: top;\n",
       "    }\n",
       "\n",
       "    .dataframe thead th {\n",
       "        text-align: right;\n",
       "    }\n",
       "</style>\n",
       "<table border=\"1\" class=\"dataframe\">\n",
       "  <thead>\n",
       "    <tr style=\"text-align: right;\">\n",
       "      <th></th>\n",
       "      <th>url</th>\n",
       "      <th>ts</th>\n",
       "      <th>service</th>\n",
       "      <th>delta</th>\n",
       "    </tr>\n",
       "  </thead>\n",
       "  <tbody>\n",
       "    <tr>\n",
       "      <th>0</th>\n",
       "      <td>url1</td>\n",
       "      <td>2018-08-15 00:00:00</td>\n",
       "      <td>tw</td>\n",
       "      <td>1</td>\n",
       "    </tr>\n",
       "    <tr>\n",
       "      <th>1</th>\n",
       "      <td>url1</td>\n",
       "      <td>2018-08-15 00:05:00</td>\n",
       "      <td>tw</td>\n",
       "      <td>3</td>\n",
       "    </tr>\n",
       "    <tr>\n",
       "      <th>2</th>\n",
       "      <td>url1</td>\n",
       "      <td>2018-08-15 00:11:00</td>\n",
       "      <td>tw</td>\n",
       "      <td>1</td>\n",
       "    </tr>\n",
       "  </tbody>\n",
       "</table>\n",
       "</div>"
      ],
      "text/plain": [
       "    url                   ts service  delta\n",
       "0  url1  2018-08-15 00:00:00      tw      1\n",
       "1  url1  2018-08-15 00:05:00      tw      3\n",
       "2  url1  2018-08-15 00:11:00      tw      1"
      ]
     },
     "execution_count": 7,
     "metadata": {},
     "output_type": "execute_result"
    }
   ],
   "source": [
    "df = pd.read_csv('social_deltas.csv')\n",
    "df.head(3)"
   ]
  },
  {
   "cell_type": "code",
   "execution_count": 25,
   "metadata": {},
   "outputs": [
    {
     "data": {
      "text/html": [
       "<div>\n",
       "<style scoped>\n",
       "    .dataframe tbody tr th:only-of-type {\n",
       "        vertical-align: middle;\n",
       "    }\n",
       "\n",
       "    .dataframe tbody tr th {\n",
       "        vertical-align: top;\n",
       "    }\n",
       "\n",
       "    .dataframe thead th {\n",
       "        text-align: right;\n",
       "    }\n",
       "</style>\n",
       "<table border=\"1\" class=\"dataframe\">\n",
       "  <thead>\n",
       "    <tr style=\"text-align: right;\">\n",
       "      <th></th>\n",
       "      <th>url</th>\n",
       "      <th>ts</th>\n",
       "      <th>service</th>\n",
       "      <th>delta</th>\n",
       "      <th>total</th>\n",
       "    </tr>\n",
       "  </thead>\n",
       "  <tbody>\n",
       "    <tr>\n",
       "      <th>0</th>\n",
       "      <td>url1</td>\n",
       "      <td>2018-08-15 00:00:00</td>\n",
       "      <td>tw</td>\n",
       "      <td>1</td>\n",
       "      <td>1</td>\n",
       "    </tr>\n",
       "    <tr>\n",
       "      <th>1</th>\n",
       "      <td>url1</td>\n",
       "      <td>2018-08-15 00:05:00</td>\n",
       "      <td>tw</td>\n",
       "      <td>3</td>\n",
       "      <td>4</td>\n",
       "    </tr>\n",
       "    <tr>\n",
       "      <th>2</th>\n",
       "      <td>url1</td>\n",
       "      <td>2018-08-15 00:11:00</td>\n",
       "      <td>tw</td>\n",
       "      <td>1</td>\n",
       "      <td>5</td>\n",
       "    </tr>\n",
       "  </tbody>\n",
       "</table>\n",
       "</div>"
      ],
      "text/plain": [
       "    url                   ts service  delta  total\n",
       "0  url1  2018-08-15 00:00:00      tw      1      1\n",
       "1  url1  2018-08-15 00:05:00      tw      3      4\n",
       "2  url1  2018-08-15 00:11:00      tw      1      5"
      ]
     },
     "execution_count": 25,
     "metadata": {},
     "output_type": "execute_result"
    }
   ],
   "source": [
    "df = pd.read_csv('social_deltas.csv')\n",
    "df = df.assign(total=df.sort_values(['ts']).groupby(['url', 'service']).delta.cumsum())\n",
    "df.head(3)"
   ]
  },
  {
   "cell_type": "markdown",
   "metadata": {},
   "source": [
    "### RANK, DENSE_RANK, PERCENT_RANK: rank things in group"
   ]
  },
  {
   "cell_type": "markdown",
   "metadata": {},
   "source": [
    "Spark code:\n",
    "\n",
    "```\n",
    "df = sqlContext.read.csv('social_totals_agg.csv', header=True, inferSchema=True)\n",
    "df = sqlContext.sql(\"\"\"\n",
    "select * from (\n",
    "   select *,\n",
    "          rank() over (partition by service order by total desc) as rnk\n",
    "   from df)\n",
    "where rnk <= 3\n",
    "\"\"\")\n",
    "```\n",
    "\n",
    "to select top 3 urls for each service by number of social shares."
   ]
  },
  {
   "cell_type": "code",
   "execution_count": 26,
   "metadata": {},
   "outputs": [
    {
     "data": {
      "text/html": [
       "<div>\n",
       "<style scoped>\n",
       "    .dataframe tbody tr th:only-of-type {\n",
       "        vertical-align: middle;\n",
       "    }\n",
       "\n",
       "    .dataframe tbody tr th {\n",
       "        vertical-align: top;\n",
       "    }\n",
       "\n",
       "    .dataframe thead th {\n",
       "        text-align: right;\n",
       "    }\n",
       "</style>\n",
       "<table border=\"1\" class=\"dataframe\">\n",
       "  <thead>\n",
       "    <tr style=\"text-align: right;\">\n",
       "      <th></th>\n",
       "      <th>url</th>\n",
       "      <th>ts</th>\n",
       "      <th>service</th>\n",
       "      <th>total</th>\n",
       "      <th>rn</th>\n",
       "    </tr>\n",
       "  </thead>\n",
       "  <tbody>\n",
       "    <tr>\n",
       "      <th>0</th>\n",
       "      <td>url1</td>\n",
       "      <td>2018-08-15 00:00:00</td>\n",
       "      <td>tw</td>\n",
       "      <td>1</td>\n",
       "      <td>1</td>\n",
       "    </tr>\n",
       "    <tr>\n",
       "      <th>1</th>\n",
       "      <td>url1</td>\n",
       "      <td>2018-08-15 00:05:00</td>\n",
       "      <td>tw</td>\n",
       "      <td>4</td>\n",
       "      <td>2</td>\n",
       "    </tr>\n",
       "    <tr>\n",
       "      <th>2</th>\n",
       "      <td>url1</td>\n",
       "      <td>2018-08-15 00:11:00</td>\n",
       "      <td>tw</td>\n",
       "      <td>5</td>\n",
       "      <td>3</td>\n",
       "    </tr>\n",
       "  </tbody>\n",
       "</table>\n",
       "</div>"
      ],
      "text/plain": [
       "    url                   ts service  total  rn\n",
       "0  url1  2018-08-15 00:00:00      tw      1   1\n",
       "1  url1  2018-08-15 00:05:00      tw      4   2\n",
       "2  url1  2018-08-15 00:11:00      tw      5   3"
      ]
     },
     "execution_count": 26,
     "metadata": {},
     "output_type": "execute_result"
    }
   ],
   "source": [
    "df = pd.read_csv('social_totals.csv')\n",
    "df = df.assign(rn=df.sort_values(['ts']).groupby(['url', 'service']).rank(method='first'))\n",
    "df.head(3)"
   ]
  },
  {
   "cell_type": "markdown",
   "metadata": {},
   "source": [
    "### ROWS/RANGE: resize the window"
   ]
  },
  {
   "cell_type": "markdown",
   "metadata": {},
   "source": [
    "Spark code: TODO"
   ]
  },
  {
   "cell_type": "code",
   "execution_count": 44,
   "metadata": {},
   "outputs": [
    {
     "data": {
      "text/plain": [
       "0        1.0\n",
       "18       1.0\n",
       "9        5.0\n",
       "24       1.0\n",
       "19       7.0\n",
       "25       3.0\n",
       "10      20.0\n",
       "1        4.0\n",
       "26      10.0\n",
       "20      20.0\n",
       "2        5.0\n",
       "11      31.0\n",
       "27      16.0\n",
       "21     100.0\n",
       "3        8.0\n",
       "12      45.0\n",
       "28      25.0\n",
       "22     555.0\n",
       "4       12.0\n",
       "13      59.0\n",
       "23    1200.0\n",
       "29      38.0\n",
       "5       25.0\n",
       "14      67.0\n",
       "15     110.0\n",
       "6       41.0\n",
       "16     230.0\n",
       "7       45.0\n",
       "8       59.0\n",
       "17     360.0\n",
       "Name: total, dtype: float64"
      ]
     },
     "execution_count": 44,
     "metadata": {},
     "output_type": "execute_result"
    }
   ],
   "source": [
    "df = pd.read_csv('social_totals.csv')\n",
    "df.sort_values('ts').rolling(1, on='ts').total.mean()"
   ]
  },
  {
   "cell_type": "code",
   "execution_count": null,
   "metadata": {},
   "outputs": [],
   "source": []
  },
  {
   "cell_type": "code",
   "execution_count": null,
   "metadata": {},
   "outputs": [],
   "source": []
  }
 ],
 "metadata": {
  "kernelspec": {
   "display_name": "Python 3",
   "language": "python",
   "name": "python3"
  },
  "language_info": {
   "codemirror_mode": {
    "name": "ipython",
    "version": 3
   },
   "file_extension": ".py",
   "mimetype": "text/x-python",
   "name": "python",
   "nbconvert_exporter": "python",
   "pygments_lexer": "ipython3",
   "version": "3.6.5"
  }
 },
 "nbformat": 4,
 "nbformat_minor": 2
}
