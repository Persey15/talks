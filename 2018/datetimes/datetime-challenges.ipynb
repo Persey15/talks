{
 "cells": [
  {
   "cell_type": "code",
   "execution_count": 83,
   "metadata": {},
   "outputs": [],
   "source": [
    "import pandas as pd\n",
    "import numpy as np\n",
    "import datetime as dt\n",
    "import pytz"
   ]
  },
  {
   "cell_type": "code",
   "execution_count": 55,
   "metadata": {},
   "outputs": [],
   "source": [
    "def extract_fields(line):\n",
    "    parts = line.split(' || ')\n",
    "    return (parts[3].strip(), parts[4].strip(), parts[7].strip(), parts[8].strip())"
   ]
  },
  {
   "cell_type": "code",
   "execution_count": 56,
   "metadata": {},
   "outputs": [
    {
     "data": {
      "text/html": [
       "<div>\n",
       "<style scoped>\n",
       "    .dataframe tbody tr th:only-of-type {\n",
       "        vertical-align: middle;\n",
       "    }\n",
       "\n",
       "    .dataframe tbody tr th {\n",
       "        vertical-align: top;\n",
       "    }\n",
       "\n",
       "    .dataframe thead th {\n",
       "        text-align: right;\n",
       "    }\n",
       "</style>\n",
       "<table border=\"1\" class=\"dataframe\">\n",
       "  <thead>\n",
       "    <tr style=\"text-align: right;\">\n",
       "      <th></th>\n",
       "      <th>date</th>\n",
       "      <th>request</th>\n",
       "      <th>referrer</th>\n",
       "      <th>user_agent</th>\n",
       "    </tr>\n",
       "  </thead>\n",
       "  <tbody>\n",
       "    <tr>\n",
       "      <th>0</th>\n",
       "      <td>31/Aug/2015:23:49:01 +0000</td>\n",
       "      <td>GET /logger/?action-view&amp;site_id=123 HTTP/1.1</td>\n",
       "      <td>https://foo.com/some/url</td>\n",
       "      <td>Mozilla/5.0 (Windows NT 5.1) AppleWebKit/537.3...</td>\n",
       "    </tr>\n",
       "  </tbody>\n",
       "</table>\n",
       "</div>"
      ],
      "text/plain": [
       "                         date                                        request  \\\n",
       "0  31/Aug/2015:23:49:01 +0000  GET /logger/?action-view&site_id=123 HTTP/1.1   \n",
       "\n",
       "                   referrer                                         user_agent  \n",
       "0  https://foo.com/some/url  Mozilla/5.0 (Windows NT 5.1) AppleWebKit/537.3...  "
      ]
     },
     "execution_count": 56,
     "metadata": {},
     "output_type": "execute_result"
    }
   ],
   "source": [
    "log_lines = [\"/logger/ || 70.123.102.76 || - || 31/Aug/2015:23:49:01 +0000  || GET /logger/?action-view&site_id=123 HTTP/1.1 || 200 || 236 || https://foo.com/some/url || Mozilla/5.0 (Windows NT 5.1) AppleWebKit/537.36 (KHTML, like Gecko) Chrome/44.0.2403.157 Safari/537.36 || - || - || - || 0.000\"]\n",
    "data = [extract_fields(l) for l in log_lines]\n",
    "df = pd.DataFrame(data)\n",
    "df.columns = ['date', 'request', 'referrer', 'user_agent']\n",
    "df"
   ]
  },
  {
   "cell_type": "code",
   "execution_count": 57,
   "metadata": {},
   "outputs": [
    {
     "data": {
      "text/plain": [
       "0    31/Aug/2015:23:49:01 +0000\n",
       "Name: date, dtype: object"
      ]
     },
     "execution_count": 57,
     "metadata": {},
     "output_type": "execute_result"
    }
   ],
   "source": [
    "df.date"
   ]
  },
  {
   "cell_type": "code",
   "execution_count": 58,
   "metadata": {},
   "outputs": [
    {
     "data": {
      "text/html": [
       "<div>\n",
       "<style scoped>\n",
       "    .dataframe tbody tr th:only-of-type {\n",
       "        vertical-align: middle;\n",
       "    }\n",
       "\n",
       "    .dataframe tbody tr th {\n",
       "        vertical-align: top;\n",
       "    }\n",
       "\n",
       "    .dataframe thead th {\n",
       "        text-align: right;\n",
       "    }\n",
       "</style>\n",
       "<table border=\"1\" class=\"dataframe\">\n",
       "  <thead>\n",
       "    <tr style=\"text-align: right;\">\n",
       "      <th></th>\n",
       "      <th>date</th>\n",
       "      <th>request</th>\n",
       "      <th>referrer</th>\n",
       "      <th>user_agent</th>\n",
       "    </tr>\n",
       "  </thead>\n",
       "  <tbody>\n",
       "    <tr>\n",
       "      <th>0</th>\n",
       "      <td>2015-08-31 23:49:01+00:00</td>\n",
       "      <td>GET /logger/?action-view&amp;site_id=123 HTTP/1.1</td>\n",
       "      <td>https://foo.com/some/url</td>\n",
       "      <td>Mozilla/5.0 (Windows NT 5.1) AppleWebKit/537.3...</td>\n",
       "    </tr>\n",
       "  </tbody>\n",
       "</table>\n",
       "</div>"
      ],
      "text/plain": [
       "                       date                                        request  \\\n",
       "0 2015-08-31 23:49:01+00:00  GET /logger/?action-view&site_id=123 HTTP/1.1   \n",
       "\n",
       "                   referrer                                         user_agent  \n",
       "0  https://foo.com/some/url  Mozilla/5.0 (Windows NT 5.1) AppleWebKit/537.3...  "
      ]
     },
     "execution_count": 58,
     "metadata": {},
     "output_type": "execute_result"
    }
   ],
   "source": [
    "df['date'] = pd.to_datetime(df['date'], format='%d/%b/%Y:%H:%M:%S +0000', utc=True)\n",
    "df"
   ]
  },
  {
   "cell_type": "code",
   "execution_count": 59,
   "metadata": {},
   "outputs": [
    {
     "data": {
      "text/html": [
       "<div>\n",
       "<style scoped>\n",
       "    .dataframe tbody tr th:only-of-type {\n",
       "        vertical-align: middle;\n",
       "    }\n",
       "\n",
       "    .dataframe tbody tr th {\n",
       "        vertical-align: top;\n",
       "    }\n",
       "\n",
       "    .dataframe thead th {\n",
       "        text-align: right;\n",
       "    }\n",
       "</style>\n",
       "<table border=\"1\" class=\"dataframe\">\n",
       "  <thead>\n",
       "    <tr style=\"text-align: right;\">\n",
       "      <th></th>\n",
       "      <th>request</th>\n",
       "      <th>referrer</th>\n",
       "      <th>user_agent</th>\n",
       "    </tr>\n",
       "    <tr>\n",
       "      <th>date</th>\n",
       "      <th></th>\n",
       "      <th></th>\n",
       "      <th></th>\n",
       "    </tr>\n",
       "  </thead>\n",
       "  <tbody>\n",
       "    <tr>\n",
       "      <th>2015-08-31 23:49:01+00:00</th>\n",
       "      <td>GET /logger/?action-view&amp;site_id=123 HTTP/1.1</td>\n",
       "      <td>https://foo.com/some/url</td>\n",
       "      <td>Mozilla/5.0 (Windows NT 5.1) AppleWebKit/537.3...</td>\n",
       "    </tr>\n",
       "  </tbody>\n",
       "</table>\n",
       "</div>"
      ],
      "text/plain": [
       "                                                                 request  \\\n",
       "date                                                                       \n",
       "2015-08-31 23:49:01+00:00  GET /logger/?action-view&site_id=123 HTTP/1.1   \n",
       "\n",
       "                                           referrer  \\\n",
       "date                                                  \n",
       "2015-08-31 23:49:01+00:00  https://foo.com/some/url   \n",
       "\n",
       "                                                                  user_agent  \n",
       "date                                                                          \n",
       "2015-08-31 23:49:01+00:00  Mozilla/5.0 (Windows NT 5.1) AppleWebKit/537.3...  "
      ]
     },
     "execution_count": 59,
     "metadata": {},
     "output_type": "execute_result"
    }
   ],
   "source": [
    "df.set_index('date', inplace=True)\n",
    "df"
   ]
  },
  {
   "cell_type": "code",
   "execution_count": 60,
   "metadata": {},
   "outputs": [
    {
     "data": {
      "text/plain": [
       "DatetimeIndex(['2015-08-31 23:49:01+00:00'], dtype='datetime64[ns, UTC]', name=u'date', freq=None)"
      ]
     },
     "execution_count": 60,
     "metadata": {},
     "output_type": "execute_result"
    }
   ],
   "source": [
    "df.index"
   ]
  },
  {
   "cell_type": "code",
   "execution_count": 61,
   "metadata": {},
   "outputs": [
    {
     "data": {
      "text/html": [
       "<div>\n",
       "<style scoped>\n",
       "    .dataframe tbody tr th:only-of-type {\n",
       "        vertical-align: middle;\n",
       "    }\n",
       "\n",
       "    .dataframe tbody tr th {\n",
       "        vertical-align: top;\n",
       "    }\n",
       "\n",
       "    .dataframe thead th {\n",
       "        text-align: right;\n",
       "    }\n",
       "</style>\n",
       "<table border=\"1\" class=\"dataframe\">\n",
       "  <thead>\n",
       "    <tr style=\"text-align: right;\">\n",
       "      <th></th>\n",
       "      <th>request</th>\n",
       "      <th>referrer</th>\n",
       "      <th>user_agent</th>\n",
       "    </tr>\n",
       "    <tr>\n",
       "      <th>date</th>\n",
       "      <th></th>\n",
       "      <th></th>\n",
       "      <th></th>\n",
       "    </tr>\n",
       "  </thead>\n",
       "  <tbody>\n",
       "    <tr>\n",
       "      <th>2015-08-31 16:49:01-07:00</th>\n",
       "      <td>GET /logger/?action-view&amp;site_id=123 HTTP/1.1</td>\n",
       "      <td>https://foo.com/some/url</td>\n",
       "      <td>Mozilla/5.0 (Windows NT 5.1) AppleWebKit/537.3...</td>\n",
       "    </tr>\n",
       "  </tbody>\n",
       "</table>\n",
       "</div>"
      ],
      "text/plain": [
       "                                                                 request  \\\n",
       "date                                                                       \n",
       "2015-08-31 16:49:01-07:00  GET /logger/?action-view&site_id=123 HTTP/1.1   \n",
       "\n",
       "                                           referrer  \\\n",
       "date                                                  \n",
       "2015-08-31 16:49:01-07:00  https://foo.com/some/url   \n",
       "\n",
       "                                                                  user_agent  \n",
       "date                                                                          \n",
       "2015-08-31 16:49:01-07:00  Mozilla/5.0 (Windows NT 5.1) AppleWebKit/537.3...  "
      ]
     },
     "execution_count": 61,
     "metadata": {},
     "output_type": "execute_result"
    }
   ],
   "source": [
    "df.index = df.index.tz_convert('America/Los_Angeles')\n",
    "df"
   ]
  },
  {
   "cell_type": "code",
   "execution_count": 71,
   "metadata": {},
   "outputs": [
    {
     "data": {
      "text/html": [
       "<div>\n",
       "<style scoped>\n",
       "    .dataframe tbody tr th:only-of-type {\n",
       "        vertical-align: middle;\n",
       "    }\n",
       "\n",
       "    .dataframe tbody tr th {\n",
       "        vertical-align: top;\n",
       "    }\n",
       "\n",
       "    .dataframe thead th {\n",
       "        text-align: right;\n",
       "    }\n",
       "</style>\n",
       "<table border=\"1\" class=\"dataframe\">\n",
       "  <thead>\n",
       "    <tr style=\"text-align: right;\">\n",
       "      <th></th>\n",
       "      <th>request</th>\n",
       "      <th>referrer</th>\n",
       "      <th>user_agent</th>\n",
       "    </tr>\n",
       "    <tr>\n",
       "      <th>date</th>\n",
       "      <th></th>\n",
       "      <th></th>\n",
       "      <th></th>\n",
       "    </tr>\n",
       "  </thead>\n",
       "  <tbody>\n",
       "    <tr>\n",
       "      <th>2015-08-31 16:00:00-07:00</th>\n",
       "      <td>GET /logger/?action-view&amp;site_id=123 HTTP/1.1</td>\n",
       "      <td>https://foo.com/some/url</td>\n",
       "      <td>Mozilla/5.0 (Windows NT 5.1) AppleWebKit/537.3...</td>\n",
       "    </tr>\n",
       "  </tbody>\n",
       "</table>\n",
       "</div>"
      ],
      "text/plain": [
       "                                                                 request  \\\n",
       "date                                                                       \n",
       "2015-08-31 16:00:00-07:00  GET /logger/?action-view&site_id=123 HTTP/1.1   \n",
       "\n",
       "                                           referrer  \\\n",
       "date                                                  \n",
       "2015-08-31 16:00:00-07:00  https://foo.com/some/url   \n",
       "\n",
       "                                                                  user_agent  \n",
       "date                                                                          \n",
       "2015-08-31 16:00:00-07:00  Mozilla/5.0 (Windows NT 5.1) AppleWebKit/537.3...  "
      ]
     },
     "execution_count": 71,
     "metadata": {},
     "output_type": "execute_result"
    }
   ],
   "source": [
    "df.index = df.index.floor('1H')\n",
    "df"
   ]
  },
  {
   "cell_type": "code",
   "execution_count": 82,
   "metadata": {},
   "outputs": [
    {
     "data": {
      "text/html": [
       "<div>\n",
       "<style scoped>\n",
       "    .dataframe tbody tr th:only-of-type {\n",
       "        vertical-align: middle;\n",
       "    }\n",
       "\n",
       "    .dataframe tbody tr th {\n",
       "        vertical-align: top;\n",
       "    }\n",
       "\n",
       "    .dataframe thead th {\n",
       "        text-align: right;\n",
       "    }\n",
       "</style>\n",
       "<table border=\"1\" class=\"dataframe\">\n",
       "  <thead>\n",
       "    <tr style=\"text-align: right;\">\n",
       "      <th></th>\n",
       "      <th></th>\n",
       "      <th>referrer</th>\n",
       "      <th>user_agent</th>\n",
       "    </tr>\n",
       "    <tr>\n",
       "      <th>date</th>\n",
       "      <th>request</th>\n",
       "      <th></th>\n",
       "      <th></th>\n",
       "    </tr>\n",
       "  </thead>\n",
       "  <tbody>\n",
       "    <tr>\n",
       "      <th>2015-08-31 16:00:00-07:00</th>\n",
       "      <th>GET /logger/?action-view&amp;site_id=123 HTTP/1.1</th>\n",
       "      <td>1</td>\n",
       "      <td>1</td>\n",
       "    </tr>\n",
       "  </tbody>\n",
       "</table>\n",
       "</div>"
      ],
      "text/plain": [
       "                                                                         referrer  \\\n",
       "date                      request                                                   \n",
       "2015-08-31 16:00:00-07:00 GET /logger/?action-view&site_id=123 HTTP/1.1         1   \n",
       "\n",
       "                                                                         user_agent  \n",
       "date                      request                                                    \n",
       "2015-08-31 16:00:00-07:00 GET /logger/?action-view&site_id=123 HTTP/1.1           1  "
      ]
     },
     "execution_count": 82,
     "metadata": {},
     "output_type": "execute_result"
    }
   ],
   "source": [
    "df.groupby(['date', 'request']).count()"
   ]
  },
  {
   "cell_type": "code",
   "execution_count": 84,
   "metadata": {},
   "outputs": [
    {
     "data": {
      "text/plain": [
       "datetime.datetime(2017, 12, 27, 15, 17, 35, 311839)"
      ]
     },
     "execution_count": 84,
     "metadata": {},
     "output_type": "execute_result"
    }
   ],
   "source": [
    "now = dt.datetime.now()\n",
    "now"
   ]
  },
  {
   "cell_type": "code",
   "execution_count": 124,
   "metadata": {},
   "outputs": [
    {
     "data": {
      "text/plain": [
       "datetime.datetime(2018, 1, 26, 15, 17, 35, 311839)"
      ]
     },
     "execution_count": 124,
     "metadata": {},
     "output_type": "execute_result"
    }
   ],
   "source": [
    "next_month = now + dt.timedelta(days=30)\n",
    "next_month"
   ]
  },
  {
   "cell_type": "code",
   "execution_count": 102,
   "metadata": {},
   "outputs": [
    {
     "data": {
      "text/html": [
       "<div>\n",
       "<style scoped>\n",
       "    .dataframe tbody tr th:only-of-type {\n",
       "        vertical-align: middle;\n",
       "    }\n",
       "\n",
       "    .dataframe tbody tr th {\n",
       "        vertical-align: top;\n",
       "    }\n",
       "\n",
       "    .dataframe thead th {\n",
       "        text-align: right;\n",
       "    }\n",
       "</style>\n",
       "<table border=\"1\" class=\"dataframe\">\n",
       "  <thead>\n",
       "    <tr style=\"text-align: right;\">\n",
       "      <th></th>\n",
       "      <th>request</th>\n",
       "      <th>referrer</th>\n",
       "      <th>user_agent</th>\n",
       "      <th>week_start</th>\n",
       "    </tr>\n",
       "    <tr>\n",
       "      <th>date</th>\n",
       "      <th></th>\n",
       "      <th></th>\n",
       "      <th></th>\n",
       "      <th></th>\n",
       "    </tr>\n",
       "  </thead>\n",
       "  <tbody>\n",
       "    <tr>\n",
       "      <th>2015-08-31 16:00:00-07:00</th>\n",
       "      <td>GET /logger/?action-view&amp;site_id=123 HTTP/1.1</td>\n",
       "      <td>https://foo.com/some/url</td>\n",
       "      <td>Mozilla/5.0 (Windows NT 5.1) AppleWebKit/537.3...</td>\n",
       "      <td>2015-08-31</td>\n",
       "    </tr>\n",
       "  </tbody>\n",
       "</table>\n",
       "</div>"
      ],
      "text/plain": [
       "                                                                 request  \\\n",
       "date                                                                       \n",
       "2015-08-31 16:00:00-07:00  GET /logger/?action-view&site_id=123 HTTP/1.1   \n",
       "\n",
       "                                           referrer  \\\n",
       "date                                                  \n",
       "2015-08-31 16:00:00-07:00  https://foo.com/some/url   \n",
       "\n",
       "                                                                  user_agent  \\\n",
       "date                                                                           \n",
       "2015-08-31 16:00:00-07:00  Mozilla/5.0 (Windows NT 5.1) AppleWebKit/537.3...   \n",
       "\n",
       "                          week_start  \n",
       "date                                  \n",
       "2015-08-31 16:00:00-07:00 2015-08-31  "
      ]
     },
     "execution_count": 102,
     "metadata": {},
     "output_type": "execute_result"
    }
   ],
   "source": [
    "df['week_start'] = df.index.to_period('W').start_time\n",
    "df"
   ]
  },
  {
   "cell_type": "code",
   "execution_count": 120,
   "metadata": {},
   "outputs": [
    {
     "data": {
      "text/html": [
       "<div>\n",
       "<style scoped>\n",
       "    .dataframe tbody tr th:only-of-type {\n",
       "        vertical-align: middle;\n",
       "    }\n",
       "\n",
       "    .dataframe tbody tr th {\n",
       "        vertical-align: top;\n",
       "    }\n",
       "\n",
       "    .dataframe thead th {\n",
       "        text-align: right;\n",
       "    }\n",
       "</style>\n",
       "<table border=\"1\" class=\"dataframe\">\n",
       "  <thead>\n",
       "    <tr style=\"text-align: right;\">\n",
       "      <th></th>\n",
       "      <th>request</th>\n",
       "      <th>referrer</th>\n",
       "      <th>user_agent</th>\n",
       "      <th>week_start</th>\n",
       "      <th>next_week_start</th>\n",
       "    </tr>\n",
       "    <tr>\n",
       "      <th>date</th>\n",
       "      <th></th>\n",
       "      <th></th>\n",
       "      <th></th>\n",
       "      <th></th>\n",
       "      <th></th>\n",
       "    </tr>\n",
       "  </thead>\n",
       "  <tbody>\n",
       "    <tr>\n",
       "      <th>2015-08-31 16:00:00-07:00</th>\n",
       "      <td>GET /logger/?action-view&amp;site_id=123 HTTP/1.1</td>\n",
       "      <td>https://foo.com/some/url</td>\n",
       "      <td>Mozilla/5.0 (Windows NT 5.1) AppleWebKit/537.3...</td>\n",
       "      <td>2015-08-31</td>\n",
       "      <td>2015-09-07</td>\n",
       "    </tr>\n",
       "  </tbody>\n",
       "</table>\n",
       "</div>"
      ],
      "text/plain": [
       "                                                                 request  \\\n",
       "date                                                                       \n",
       "2015-08-31 16:00:00-07:00  GET /logger/?action-view&site_id=123 HTTP/1.1   \n",
       "\n",
       "                                           referrer  \\\n",
       "date                                                  \n",
       "2015-08-31 16:00:00-07:00  https://foo.com/some/url   \n",
       "\n",
       "                                                                  user_agent  \\\n",
       "date                                                                           \n",
       "2015-08-31 16:00:00-07:00  Mozilla/5.0 (Windows NT 5.1) AppleWebKit/537.3...   \n",
       "\n",
       "                          week_start next_week_start  \n",
       "date                                                  \n",
       "2015-08-31 16:00:00-07:00 2015-08-31      2015-09-07  "
      ]
     },
     "execution_count": 120,
     "metadata": {},
     "output_type": "execute_result"
    }
   ],
   "source": [
    "df['next_week_start'] = df['week_start'] + pd.DateOffset(weeks=1)\n",
    "df"
   ]
  },
  {
   "cell_type": "code",
   "execution_count": 121,
   "metadata": {},
   "outputs": [
    {
     "data": {
      "text/plain": [
       "DatetimeIndex(['2017-12-27 15:17:35.311839', '2017-12-28 15:17:35.311839',\n",
       "               '2017-12-29 15:17:35.311839', '2017-12-30 15:17:35.311839',\n",
       "               '2017-12-31 15:17:35.311839', '2018-01-01 15:17:35.311839',\n",
       "               '2018-01-02 15:17:35.311839', '2018-01-03 15:17:35.311839',\n",
       "               '2018-01-04 15:17:35.311839', '2018-01-05 15:17:35.311839'],\n",
       "              dtype='datetime64[ns]', freq='D')"
      ]
     },
     "execution_count": 121,
     "metadata": {},
     "output_type": "execute_result"
    }
   ],
   "source": [
    "pd.date_range(now, periods=10, freq='D')"
   ]
  },
  {
   "cell_type": "code",
   "execution_count": 125,
   "metadata": {},
   "outputs": [
    {
     "data": {
      "text/plain": [
       "DatetimeIndex(['2017-12-31 15:17:35.311839', '2018-01-07 15:17:35.311839',\n",
       "               '2018-01-14 15:17:35.311839', '2018-01-21 15:17:35.311839'],\n",
       "              dtype='datetime64[ns]', freq='W-SUN')"
      ]
     },
     "execution_count": 125,
     "metadata": {},
     "output_type": "execute_result"
    }
   ],
   "source": [
    "pd.date_range(now, next_month, freq='W')"
   ]
  },
  {
   "cell_type": "code",
   "execution_count": null,
   "metadata": {},
   "outputs": [],
   "source": []
  }
 ],
 "metadata": {
  "kernelspec": {
   "display_name": "Python 2",
   "language": "python",
   "name": "python2"
  },
  "language_info": {
   "codemirror_mode": {
    "name": "ipython",
    "version": 2
   },
   "file_extension": ".py",
   "mimetype": "text/x-python",
   "name": "python",
   "nbconvert_exporter": "python",
   "pygments_lexer": "ipython2",
   "version": "2.7.13"
  }
 },
 "nbformat": 4,
 "nbformat_minor": 2
}
